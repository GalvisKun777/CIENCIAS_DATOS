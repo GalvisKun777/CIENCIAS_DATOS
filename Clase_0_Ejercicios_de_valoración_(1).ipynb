{
  "cells": [
    {
      "cell_type": "markdown",
      "metadata": {
        "id": "LMTngmL8WTCH"
      },
      "source": [
        "# Listado de Ejercicios a realizar"
      ]
    },
    {
      "cell_type": "markdown",
      "metadata": {
        "id": "o1F8rAPeWTCI"
      },
      "source": [
        "## 1. Sin usar el computador, evalúe las siguientes expresiones, y para cada una de ellas indique el resultado y su tipo (si la expresión es válida) o qué error ocurre:\n",
        "\n",
        "### Ejemplo\n",
        "- 2 + 3      # Respuesta: tipo int, valor 5\n",
        "- 4 / 0      # Respuesta: error de división por cero\n",
        "\n",
        "### Ejercicio\n",
        "\n",
        "- 5 + 3 * 4: 17\n",
        "- '5' + '3' * 2\n",
        "- 2 ** 11 == 1000 or 2 ** 9 == 100\n",
        "- int(\"cincuenta\")\n",
        "- 16/16 + 384/24\n",
        "- 600 + 18%\n",
        "- 0 < (4096 % 10) < 6\n",
        "- 'Max' + 'Min'\n",
        "- ABC() * DEF()\n",
        "- float(-int(\"7\")+int('90))\n",
        "- abs(len('seis') - len('tres'))\n",
        "- bool(1210) or bool(-3465)\n",
        "- float(str(int('8' * 3) / 3)[3])"
      ]
    },
    {
      "cell_type": "markdown",
      "metadata": {
        "id": "3ypbOL-AWTCI"
      },
      "source": [
        "#Respuesta\n"
      ]
    },
    {
      "cell_type": "markdown",
      "metadata": {
        "id": "hTD-ALkgWTCI"
      },
      "source": [
        "# 2. Imprima su nombre y fecha\n",
        "- Imprime: Jorge Alvarez - 20-04-2020"
      ]
    },
    {
      "cell_type": "code",
      "execution_count": 17,
      "metadata": {
        "id": "Tgol0HqEWTCJ",
        "colab": {
          "base_uri": "https://localhost:8080/"
        },
        "outputId": "1fc79b7a-7066-44c2-8ecc-77f37c3a2d22"
      },
      "outputs": [
        {
          "output_type": "stream",
          "name": "stdout",
          "text": [
            "Santiago Galvis -  0/09/2024\n"
          ]
        }
      ],
      "source": [
        "# Respuesta\n",
        "print(\"Santiago Galvis -  0/09/2024\")"
      ]
    },
    {
      "cell_type": "markdown",
      "metadata": {
        "id": "ayG30b-MWTCJ"
      },
      "source": [
        "# 3. Solicite un nombre y que el programa salude\n",
        "### Ejemplo:\n",
        "- ingreso: 'Andres'\n",
        "- imprime: 'Hola Andres'"
      ]
    },
    {
      "cell_type": "code",
      "execution_count": 18,
      "metadata": {
        "id": "wiapNAn4WTCJ",
        "colab": {
          "base_uri": "https://localhost:8080/"
        },
        "outputId": "52261e35-523d-4ca7-9e01-cef3697ab9e4"
      },
      "outputs": [
        {
          "output_type": "stream",
          "name": "stdout",
          "text": [
            "Tu nombre es? a\n",
            "hola a\n"
          ]
        }
      ],
      "source": [
        "\n",
        "a= input(\"Tu nombre es? \")\n",
        "print(f\"hola {a}\")"
      ]
    },
    {
      "cell_type": "markdown",
      "metadata": {
        "id": "CYn33iniWTCK"
      },
      "source": [
        "# 4. Solicite el radio (un numero) de un círculo e imprima como salida su diámetro, perímetro y su área\n",
        "### Ejemplo\n",
        "- ingreso: 3\n",
        "- imprime - Diametro: 6\n",
        "- imprime - Perimetro: 18.84\n",
        "- imprime - Area: 28.27"
      ]
    },
    {
      "cell_type": "code",
      "execution_count": 20,
      "metadata": {
        "id": "QR3TreJqWTCK",
        "colab": {
          "base_uri": "https://localhost:8080/"
        },
        "outputId": "1fadebd0-9567-4db7-aa6b-00140a8f3bf9"
      },
      "outputs": [
        {
          "output_type": "stream",
          "name": "stdout",
          "text": [
            "ingrese el radio del circulo\n",
            "8\n",
            "el perimetro es 50.2656\n",
            "el area es 201.0624\n",
            "el diametro es 16.0\n"
          ]
        }
      ],
      "source": [
        "print(\"ingrese el radio del circulo\")\n",
        "r=float(input())\n",
        "perimetro=2*3.1416*r\n",
        "area=3.1416*r**2\n",
        "diametro=2*r\n",
        "print(f\"el perimetro es {perimetro}\")\n",
        "print(f\"el area es {area}\")\n",
        "print(f\"el diametro es {diametro}\")"
      ]
    },
    {
      "cell_type": "markdown",
      "metadata": {
        "id": "CnJUFicqWTCK"
      },
      "source": [
        "# 5. Solicite 6 notas y calcule el promedio de ellas\n",
        "### Ejemplo\n",
        "- ingreso: 1 2 3 4 5 6\n",
        "- imprime: 3.5"
      ]
    },
    {
      "cell_type": "code",
      "execution_count": null,
      "metadata": {
        "id": "w4INhZgOWTCK"
      },
      "outputs": [],
      "source": [
        "# Respuesta:\n",
        "promedio=0\n",
        "prom=0\n",
        "for i in range(6):\n",
        "  n=int(input(\"ingrese un numero\"))\n",
        "  promedio=promedio+n\n",
        " prom=promedio/6\n",
        " print(prom)"
      ]
    },
    {
      "cell_type": "code",
      "source": [
        "#solucion tipo 2\n",
        "#generando una lista, en el rango del 1 al 6\n",
        "lista=list(range(1,7))\n",
        "lista"
      ],
      "metadata": {
        "colab": {
          "base_uri": "https://localhost:8080/"
        },
        "id": "7TwTMoFpT8V4",
        "outputId": "a916aa25-8f55-4405-c77e-f35a816a1206"
      },
      "execution_count": 1,
      "outputs": [
        {
          "output_type": "execute_result",
          "data": {
            "text/plain": [
              "[1, 2, 3, 4, 5, 6]"
            ]
          },
          "metadata": {},
          "execution_count": 1
        }
      ]
    },
    {
      "cell_type": "code",
      "source": [
        "#sum (suma todos los elementos de una lista)\n",
        "#len(cuenta cuantos elemnetos tiene la lista)\n",
        "promedio=sum(lista)/len(lista)\n",
        "promedio\n"
      ],
      "metadata": {
        "colab": {
          "base_uri": "https://localhost:8080/"
        },
        "id": "PCpSEHh-UMsH",
        "outputId": "c9be2958-62f3-4644-94f2-4ede60f84516"
      },
      "execution_count": 4,
      "outputs": [
        {
          "output_type": "execute_result",
          "data": {
            "text/plain": [
              "3.5"
            ]
          },
          "metadata": {},
          "execution_count": 4
        }
      ]
    },
    {
      "cell_type": "code",
      "source": [
        "#solucion 3\n",
        "#round:toma un numero de datos despues de la coma\n",
        "#mean:promedio\n",
        "from statistics import mean"
      ],
      "metadata": {
        "id": "PmXKuJC-Urvo"
      },
      "execution_count": null,
      "outputs": []
    },
    {
      "cell_type": "markdown",
      "metadata": {
        "id": "9uGS-7dkWTCK"
      },
      "source": [
        "# 6. Solicite un valor e imprima que tipo de dato es\n",
        "### Ejemplo\n",
        "- ingreso: 'A'\n",
        "- imprime: str\n",
        "- ingreso: 1\n",
        "- imprime: int"
      ]
    },
    {
      "cell_type": "code",
      "execution_count": 8,
      "metadata": {
        "id": "qW2J1DjwWTCK",
        "colab": {
          "base_uri": "https://localhost:8080/"
        },
        "outputId": "86551b22-331d-453f-c44d-58e177432415"
      },
      "outputs": [
        {
          "output_type": "stream",
          "name": "stdout",
          "text": [
            "ingrese un dato:s\n",
            " ses una varible de tipo<class 'str'>\n"
          ]
        }
      ],
      "source": [
        "# Respuesta:\n",
        "dato=input(\"ingrese un dato:\")\n",
        "num=None\n",
        "#break:rompe la estructura ciclica\n",
        "#try/except:intente una operacion,y haga algo si no es posible\n",
        "#pass:dejelo pasar\n",
        "for conv in (int,float):\n",
        "  try:\n",
        "    num=conv(dato)\n",
        "    break\n",
        "  except ValueError:\n",
        "    pass\n",
        "\n",
        "if num is None:\n",
        "      print(f\" {dato}es una varible de tipo{type (dato)}\")\n",
        "else:\n",
        "  print(f\" {dato}es una variable de tipo {type(num)}\")"
      ]
    },
    {
      "cell_type": "markdown",
      "metadata": {
        "id": "DwYtzwPKWTCK"
      },
      "source": [
        "# 7. Escriba en código la siguiente ecuación\n",
        "$$ \\left(\\frac{5+3}{3-2}\\right)^2$$"
      ]
    },
    {
      "cell_type": "markdown",
      "source": [
        "$$ \\frac{5+3}{3-2}\\ $$\n",
        "$$ \\left(\\frac{5+3}{3-2}\\right)^2 $$"
      ],
      "metadata": {
        "id": "ep45rwNabFrZ"
      }
    },
    {
      "cell_type": "code",
      "source": [
        "# Respuesta\n",
        "print(((5+3)/(3-2))**2)"
      ],
      "metadata": {
        "id": "HNgU-6C1Yguq",
        "colab": {
          "base_uri": "https://localhost:8080/"
        },
        "outputId": "aac0f539-3ab9-414a-91ca-bf30814ccd96"
      },
      "execution_count": 22,
      "outputs": [
        {
          "output_type": "stream",
          "name": "stdout",
          "text": [
            "64.0\n"
          ]
        }
      ]
    },
    {
      "cell_type": "markdown",
      "metadata": {
        "id": "9U9cBSCtWTCL"
      },
      "source": [
        "# 8. Solicite número de horas trabajadas y coste por horas e imprima el valor\n",
        "### Ejemplo:\n",
        "- Ingreso: 4 (horas)\n",
        "- ingreso: 80.000 (precio x hora)\n",
        "- imprime: 320.000"
      ]
    },
    {
      "cell_type": "code",
      "execution_count": 27,
      "metadata": {
        "id": "x-dT-cLeWTCL",
        "colab": {
          "base_uri": "https://localhost:8080/"
        },
        "outputId": "e02dcd0c-1358-4d2c-ec5b-1a7292beed6e"
      },
      "outputs": [
        {
          "output_type": "stream",
          "name": "stdout",
          "text": [
            "cuantas horas trabajaste?5\n",
            "cuanto ganas por hora?5\n",
            "trabajaste 5 horas, te pagan 5 la hora asi que ganaste 25\n"
          ]
        }
      ],
      "source": [
        "# Respuesta\n",
        "a=int(input(\"cuantas horas trabajaste?\"))\n",
        "b=int(input(\"cuanto ganas por hora?\"))\n",
        "print(f\"trabajaste {a} horas, te pagan {b} la hora asi que ganaste {a*b}\")\n"
      ]
    },
    {
      "cell_type": "markdown",
      "metadata": {
        "id": "zyktCgr5WTCL"
      },
      "source": [
        "# 9. Solicite la temperatura en grados Celsius e imprima en grados Kelvin y Fahrenheit\n",
        "### Ejemplo:\n",
        "- ingreso: 38 (°C)\n",
        "- imprime: 311.15 °K\n",
        "- imprime: 100.4 °F"
      ]
    },
    {
      "cell_type": "code",
      "execution_count": 28,
      "metadata": {
        "id": "-ydgy_YwWTCL",
        "colab": {
          "base_uri": "https://localhost:8080/"
        },
        "outputId": "e01f2b11-1c7e-43ad-fb53-c01d8b5f81c1"
      },
      "outputs": [
        {
          "output_type": "stream",
          "name": "stdout",
          "text": [
            "ingrese la temperatura en grados celsius: 23\n",
            "la temperatura en kelvin es 296.15\n",
            "la temperatura en fahrenheit es 73.4\n"
          ]
        }
      ],
      "source": [
        "# Respuesta\n",
        "a=int(input(\"ingrese la temperatura en grados celsius: \"))\n",
        "k=a+273.15\n",
        "f=(a*1.8)+32\n",
        "print(f\"la temperatura en kelvin es {k}\")\n",
        "print(f\"la temperatura en fahrenheit es {f}\")"
      ]
    },
    {
      "cell_type": "markdown",
      "metadata": {
        "id": "uos8PvG9WTCL"
      },
      "source": [
        "# 10. Solicite 2 numeros e imprima si el segundo es mayor  \n",
        "### Ejemplo:\n",
        "- ingreso: 2\n",
        "- ingreso: 3\n",
        "- impmrime: True"
      ]
    },
    {
      "cell_type": "code",
      "execution_count": 14,
      "metadata": {
        "id": "cVxmGhPVWTCL",
        "colab": {
          "base_uri": "https://localhost:8080/"
        },
        "outputId": "f445359b-419f-4550-d06f-076fad3d9a98"
      },
      "outputs": [
        {
          "output_type": "stream",
          "name": "stdout",
          "text": [
            "ingrese el primer numero: 5\n",
            "5\n",
            "ingrese el primer numero: 6\n",
            "6\n"
          ]
        }
      ],
      "source": [
        "# Respuesta\n",
        "a=print(input(\"ingrese el primer numero: \"))\n",
        "b=print(input(\"ingrese el primer numero: \"))\n"
      ]
    },
    {
      "cell_type": "code",
      "source": [
        "print(True if b>a else False)"
      ],
      "metadata": {
        "colab": {
          "base_uri": "https://localhost:8080/"
        },
        "id": "7zkCyCyld7s4",
        "outputId": "73ad0b5b-66db-4bc6-9d46-03f46745a6cc"
      },
      "execution_count": 31,
      "outputs": [
        {
          "output_type": "stream",
          "name": "stdout",
          "text": [
            "False\n"
          ]
        }
      ]
    },
    {
      "cell_type": "markdown",
      "metadata": {
        "id": "wnBR7YdPWTCL"
      },
      "source": [
        "# 11. Solicite 2 numeros e imprima si el segundo es menor  \n",
        "### Ejemplo:\n",
        "- ingreso: 2\n",
        "- ingreso: 3\n",
        "- impmrime: False"
      ]
    },
    {
      "cell_type": "code",
      "execution_count": 39,
      "metadata": {
        "id": "9T9-iqzgWTCL",
        "colab": {
          "base_uri": "https://localhost:8080/"
        },
        "outputId": "66a02776-a296-4f43-be92-52a8e85686f7"
      },
      "outputs": [
        {
          "name": "stdout",
          "output_type": "stream",
          "text": [
            "ingrese el primer numero: 5\n",
            "ingrese el primer numero: 6\n"
          ]
        }
      ],
      "source": [
        "# Respuesta\n",
        "a=int(input(\"ingrese el primer numero: \"))\n",
        "b=int(input(\"ingrese el primer numero: \"))"
      ]
    },
    {
      "cell_type": "code",
      "source": [
        "print(True if b<a else False)"
      ],
      "metadata": {
        "colab": {
          "base_uri": "https://localhost:8080/"
        },
        "id": "Z5JCcDkEnYnx",
        "outputId": "64a17b0d-f005-4be2-e476-9f044a99868d"
      },
      "execution_count": 40,
      "outputs": [
        {
          "output_type": "stream",
          "name": "stdout",
          "text": [
            "False\n"
          ]
        }
      ]
    },
    {
      "cell_type": "markdown",
      "metadata": {
        "id": "X3JU40SNWTCL"
      },
      "source": [
        "# 12. Solicite una distancia (metros) y la velocidad (metros/segundos) e imprima el tiempo que se demora el recorrido\n",
        "### Ejemplo:\n",
        "- ingreso: 150 (metros)\n",
        "- ingreso: 15 (metros/segundo)\n",
        "- Imprime: 10 segundos"
      ]
    },
    {
      "cell_type": "code",
      "execution_count": 41,
      "metadata": {
        "id": "Q04rEmU9WTCL",
        "colab": {
          "base_uri": "https://localhost:8080/"
        },
        "outputId": "af702a37-e326-4822-b7c9-f9f77c183f59"
      },
      "outputs": [
        {
          "output_type": "stream",
          "name": "stdout",
          "text": [
            "ingrese la distancia en metros: 8\n",
            "ingrese la velocidad en metros/segundo: 10\n",
            "el tiempo que se demora el recorrido es 0.8 segundos\n"
          ]
        }
      ],
      "source": [
        "# Respuesta\n",
        "a=int(input(\"ingrese la distancia en metros: \"))\n",
        "b=int(input(\"ingrese la velocidad en metros/segundo: \"))\n",
        "print(f\"el tiempo que se demora el recorrido es {a/b} segundos\")"
      ]
    },
    {
      "cell_type": "markdown",
      "metadata": {
        "id": "_8l0zJ0OWTCM"
      },
      "source": [
        "# 13. Solicite al usuario tres valores y escriba en código la siguiente ecuación\n",
        "$$ \\left(\\frac{a+b}{c}\\right) ^2 + \\left(\\frac{a-b}{c}\\right) ^ 2 $$"
      ]
    },
    {
      "cell_type": "code",
      "execution_count": 42,
      "metadata": {
        "id": "35NzqYV8WTCM",
        "colab": {
          "base_uri": "https://localhost:8080/"
        },
        "outputId": "3e8e573f-c1da-4579-ca5d-6733bdebcba2"
      },
      "outputs": [
        {
          "output_type": "stream",
          "name": "stdout",
          "text": [
            "ingrese el primer numero: 1\n",
            "ingrese el segundo numero: 2\n",
            "ingrese el tercer numero: 3\n",
            "1.1111111111111112\n"
          ]
        }
      ],
      "source": [
        "# Respuesta\n",
        "a=int(input(\"ingrese el primer numero: \"))\n",
        "b=int(input(\"ingrese el segundo numero: \"))\n",
        "c=int(input(\"ingrese el tercer numero: \"))\n",
        "print(((a+b)/c)**2+((a-b)/c)**2)\n"
      ]
    },
    {
      "cell_type": "markdown",
      "metadata": {
        "id": "KpLmK4psWTCM"
      },
      "source": [
        "# 14. Investigue como se saca la raíz cuadrada de un número en Python y escriba la solución en el cuadro de abajo"
      ]
    },
    {
      "cell_type": "code",
      "execution_count": 43,
      "metadata": {
        "id": "hmB61u9KWTCM",
        "colab": {
          "base_uri": "https://localhost:8080/"
        },
        "outputId": "45993e2a-d59e-4d4b-ec44-9839fd2125b9"
      },
      "outputs": [
        {
          "output_type": "stream",
          "name": "stdout",
          "text": [
            "ingrese un numero: 4\n",
            "la raiz cuadrada de 4.0 es 2.0\n"
          ]
        }
      ],
      "source": [
        "# Respuesta\n",
        "import math\n",
        "num=float(input(\"ingrese un numero: \"))\n",
        "print(f\"la raiz cuadrada de {num} es {math.sqrt(num)}\")"
      ]
    },
    {
      "cell_type": "markdown",
      "metadata": {
        "id": "uDskyR69WTCM"
      },
      "source": [
        "# 15.  Con lo anterior solicite 2 numeros (Cateto a y Cateto b) e imprima la hipotenusa.\n",
        "### Ejemplo:\n",
        "- ingreso: 3 (Cateto a)\n",
        "- ingreso: 4 (Cateto b)\n",
        "- imprime: Hipotenusa = 5"
      ]
    },
    {
      "cell_type": "code",
      "execution_count": 44,
      "metadata": {
        "id": "TmahDtWwWTCM",
        "colab": {
          "base_uri": "https://localhost:8080/"
        },
        "outputId": "21947483-e768-4017-b0c7-9d49b044da89"
      },
      "outputs": [
        {
          "output_type": "stream",
          "name": "stdout",
          "text": [
            "ingrese el primer cateto: 5\n",
            "ingrese el segundo cateto: 6\n",
            "la hipotenusa es 7.810249675906654\n"
          ]
        }
      ],
      "source": [
        "# Respuesta\n",
        "a=int(input(\"ingrese el primer cateto: \"))\n",
        "b=int(input(\"ingrese el segundo cateto: \"))\n",
        "print(f\"la hipotenusa es {math.sqrt(a**2+b**2)}\")"
      ]
    },
    {
      "cell_type": "code",
      "execution_count": null,
      "metadata": {
        "id": "LIUNj3nmWTCM"
      },
      "outputs": [],
      "source": []
    }
  ],
  "metadata": {
    "kernelspec": {
      "display_name": "Python 3",
      "language": "python",
      "name": "python3"
    },
    "language_info": {
      "codemirror_mode": {
        "name": "ipython",
        "version": 3
      },
      "file_extension": ".py",
      "mimetype": "text/x-python",
      "name": "python",
      "nbconvert_exporter": "python",
      "pygments_lexer": "ipython3",
      "version": "3.8.5"
    },
    "colab": {
      "provenance": []
    }
  },
  "nbformat": 4,
  "nbformat_minor": 0
}